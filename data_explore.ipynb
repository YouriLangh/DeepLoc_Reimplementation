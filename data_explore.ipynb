{
 "cells": [
  {
   "cell_type": "code",
   "execution_count": null,
   "metadata": {},
   "outputs": [
    {
     "name": "stdout",
     "output_type": "stream",
     "text": [
      "Number of data samples: 14004\n"
     ]
    }
   ],
   "source": [
    "def count_fasta_samples(fasta_file_path):\n",
    "    sample_count = 0\n",
    "    with open(fasta_file_path, 'r') as fasta_file:\n",
    "        for line in fasta_file:\n",
    "            if line.startswith('>'): # and 'test' not in line.lower(): \n",
    "                sample_count += 1\n",
    "    return sample_count\n",
    "\n",
    "# Example usage\n",
    "fasta_file_path = './data/deeploc_data (1).fasta' \n",
    "sample_count = count_fasta_samples(fasta_file_path)\n",
    "print(f\"Number of data samples: {sample_count}\")\n"
   ]
  },
  {
   "cell_type": "code",
   "execution_count": null,
   "metadata": {},
   "outputs": [
    {
     "name": "stdout",
     "output_type": "stream",
     "text": [
      "Excluded Samples: 2773\n",
      "\n",
      "Some Excluded Sample Headers:\n",
      ">Q9H400 Cell.membrane-M test\n",
      ">P83456 Cell.membrane-M test\n",
      ">Q9GL77 Cell.membrane-M test\n",
      ">Q03445 Cell.membrane-M test\n",
      ">P35525 Cell.membrane-M test\n",
      ">P35523 Cell.membrane-M test\n",
      ">M9MSG8 Cell.membrane-M test\n",
      ">Q0VD83 Cell.membrane-M test\n",
      ">Q86T26 Cell.membrane-M test\n",
      ">Q5VWK5 Cell.membrane-M test\n",
      "Number of data samples: 11231\n"
     ]
    }
   ],
   "source": [
    "def count_fasta_samples(fasta_file_path):\n",
    "    sample_count = 0\n",
    "    excluded_samples = []  # List to store excluded sample headers\n",
    "    with open(fasta_file_path, 'r') as fasta_file:\n",
    "        for line in fasta_file:\n",
    "            if line.startswith('>'):\n",
    "                if 'test' not in line.lower():  # Excluding test samples\n",
    "                    sample_count += 1\n",
    "                else:\n",
    "                    excluded_samples.append(line.strip())  # Collect excluded lines\n",
    "\n",
    "    print(f\"Excluded Samples: {len(excluded_samples)}\")\n",
    "    if excluded_samples:\n",
    "        print(\"\\nSome Excluded Sample Headers:\")\n",
    "        for header in excluded_samples[:10]:  # Print first 10 headers for example\n",
    "            print(header)\n",
    "\n",
    "    return sample_count\n",
    "\n",
    "fasta_file_path = './data/deeploc_data (1).fasta' \n",
    "sample_count = count_fasta_samples(fasta_file_path)\n",
    "print(f\"Number of data samples: {sample_count}\")\n"
   ]
  },
  {
   "cell_type": "code",
   "execution_count": 11,
   "metadata": {},
   "outputs": [
    {
     "name": "stdout",
     "output_type": "stream",
     "text": [
      "   Unnamed: 0     ACC  Kingdom  Partition  Membrane  Cytoplasm  Nucleus  \\\n",
      "0           0  Q28165  Metazoa          4       0.0        1.0      1.0   \n",
      "1           1  Q86U42  Metazoa          4       0.0        1.0      1.0   \n",
      "2           2  Q0GA42  Metazoa          3       1.0        0.0      0.0   \n",
      "3           3  P82349  Metazoa          1       1.0        1.0      0.0   \n",
      "4           4  Q7L5N1  Metazoa          1       0.0        1.0      1.0   \n",
      "\n",
      "   Extracellular  Cell membrane  Mitochondrion  Plastid  \\\n",
      "0            0.0            0.0            0.0      0.0   \n",
      "1            0.0            0.0            0.0      0.0   \n",
      "2            0.0            1.0            0.0      0.0   \n",
      "3            0.0            1.0            0.0      0.0   \n",
      "4            0.0            0.0            0.0      0.0   \n",
      "\n",
      "   Endoplasmic reticulum  Lysosome/Vacuole  Golgi apparatus  Peroxisome  \\\n",
      "0                    0.0               0.0              0.0         0.0   \n",
      "1                    0.0               0.0              0.0         0.0   \n",
      "2                    0.0               0.0              0.0         0.0   \n",
      "3                    0.0               0.0              0.0         0.0   \n",
      "4                    0.0               0.0              0.0         0.0   \n",
      "\n",
      "                                            Sequence  \n",
      "0  MAAAAAAAAAAGAAGGRGSGPGRRRHLVPGAGGEAGEGAPGGAGDY...  \n",
      "1  MAAAAAAAAAAGAAGGRGSGPGRRRHLVPGAGGEAGEGAPGGAGDY...  \n",
      "2  MAAAAAAAAALGVRLRDCCSRGAVLLLFFSLSPRPPAAAAWLLGLR...  \n",
      "3  MAAAAAAAAATEQQGSNGPVKKSMREKAVERRNVNKEHNSNFKAGY...  \n",
      "4  MAAAAAAAAATNGTGGSSGMEVDAAVVPSVMACGVTGSVSVALHPL...  \n"
     ]
    }
   ],
   "source": [
    "import numpy as np\n",
    "import pandas as pd\n",
    "\n",
    "df = pd.read_csv('./data/Swissprot_Train_Validation_dataset.csv')\n",
    "\n",
    "print(df.head())"
   ]
  },
  {
   "cell_type": "code",
   "execution_count": 12,
   "metadata": {},
   "outputs": [
    {
     "data": {
      "text/plain": [
       "(28303, 16)"
      ]
     },
     "execution_count": 12,
     "metadata": {},
     "output_type": "execute_result"
    }
   ],
   "source": [
    "df.shape"
   ]
  }
 ],
 "metadata": {
  "kernelspec": {
   "display_name": "Python (RL2)",
   "language": "python",
   "name": "rl2"
  },
  "language_info": {
   "codemirror_mode": {
    "name": "ipython",
    "version": 3
   },
   "file_extension": ".py",
   "mimetype": "text/x-python",
   "name": "python",
   "nbconvert_exporter": "python",
   "pygments_lexer": "ipython3",
   "version": "3.10.16"
  }
 },
 "nbformat": 4,
 "nbformat_minor": 2
}
